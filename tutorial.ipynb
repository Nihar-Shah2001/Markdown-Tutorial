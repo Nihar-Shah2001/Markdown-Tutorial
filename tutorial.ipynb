{
 "cells": [
  {
   "cell_type": "markdown",
   "metadata": {},
   "source": [
    "# Markdown Tutorials"
   ]
  },
  {
   "cell_type": "markdown",
   "metadata": {},
   "source": [
    "## Italics and Bold\n",
    "To make a phrase italic in Markdown, you can surround words with an underscore (_ ). For example, _this_ word would become italic.\n",
    "\n",
    "_This is in italic_"
   ]
  },
  {
   "cell_type": "markdown",
   "metadata": {},
   "source": [
    "Similarly, to make phrases bold in Markdown, you can surround words with two asterisks ( ** ). This will **really** get your point across.\n",
    "\n",
    "**This is in bold**"
   ]
  },
  {
   "cell_type": "markdown",
   "metadata": {},
   "source": [
    "Of course, you can use _both italics and bold_ in the same line. You can also span them **across multiple words**.\n",
    "\n",
    "In general, it doesn't matter which order you place the asterisks or underscores. In the box below, make the words \"This is unbelievable\" both bold and italic. Place the asterisks **_on the outside_**, just to make it more legible.\n",
    "\n",
    "**_This is italics and bold_**"
   ]
  },
  {
   "cell_type": "markdown",
   "metadata": {},
   "source": [
    "## Headers\n",
    "\n",
    "Let's take a look at another formatting convention: the header. Headers are frequently used on websites, magazine articles, and notices, to draw attention to a section. As their name implies, they act like titles or subtitles above sections.\n",
    "\n",
    "There are six types of headers, in decreasing sizes:\n",
    "\n",
    "# This is header one\n",
    "## This is header two\n",
    "### This is header three\n",
    "#### This is header four\n",
    "##### This is header five\n",
    "###### This is header six\n",
    "\n",
    "To make headers in Markdown, you preface the phrase with a hash mark (#). You place the same number of hash marks as the size of the header you want. For example, for a header one, you'd use one hash mark (# Header One), while for a header three, you'd use three (### Header Three).\n",
    "\n",
    "It's up to you to decide when it's appropriate to use which header. In general, headers one and six should be used sparingly.\n",
    "\n",
    "You can also mix and match inline styles within headers, such as italicizing them. In the box below, make the first line a heading level four, and italicize the name of the book:\n",
    "\n",
    "#### _This is a Heading in Italics_"
   ]
  },
  {
   "cell_type": "markdown",
   "metadata": {},
   "source": [
    "## Links\n",
    "\n",
    "We'll now learn how to make links to other web sites on the World Wide Web.\n",
    "\n",
    "There are two different link types in Markdown, but both of them render the exact same way. The first link style is called an inline link. To create an inline link, you wrap the link text in brackets ( [ ] ), and then you wrap the link in parentheses ( ( ) ). For example, to create a hyperlink to www.github.com, with a link text that says, Visit GitHub!, you'd write this in Markdown: [Visit GitHub!](www.github.com).\n",
    "\n",
    "You can add emphasis to link texts, if you like. In the box below, make the phrase \"really, really\" bold, and have the entire sentence link to www.dailykitten.com. You'll want to make sure that the bold phrasing occurs within the link text brackets.\n",
    "\n",
    "[This is a link to **_Google_**](www.google.com)\n",
    "\n",
    "Although it might make for an awkward experience, you can make links within headings, too.\n",
    "\n",
    "### This is a link within a [Heading](www.google.com)\n",
    "\n",
    "The other link type is called a reference link. As the name implies, the link is actually a reference to another place in the document. Here's an example of what we mean:\n",
    "\n",
    "Here's [a link to something else][another place].\n",
    "Here's [yet another link][another-link].\n",
    "And now back to [the first link][another place].\n",
    "\n",
    "[another place]: www.github.com\n",
    "[another-link]: www.google.com\n",
    "\n",
    "The \"references\" above are the second set of brackets: [another place] and [another-link]. At the bottom of a Markdown document, these brackets are defined as proper links to outside websites. An advantage of the reference link style is that multiple links to the same place only need to be updated once. For example, if we decide to make all of the [another place] links go somewhere else, we only have to change the single reference link.\n",
    "\n",
    "Reference links don't appear in the rendered Markdown. You define them by providing the same tag name wrapped in brackets, followed by a colon, followed by the link."
   ]
  },
  {
   "cell_type": "markdown",
   "metadata": {},
   "source": [
    "## Images\n",
    "\n",
    "If you know how to create links in Markdown, you can create images, too. The syntax is nearly the same.\n",
    "\n",
    "Images also have two styles, just like links, and both of them render the exact same way. The difference between links and images is that images are prefaced with an exclamation point ( ! ).\n",
    "\n",
    "The first image style is called an inline image link. To create an inline image link, enter an exclamation point ( ! ), wrap the alt text in brackets ( [ ] ), and then wrap the link in parentheses ( ( ) ). (Alt text is a phrase or sentence that describes the image for the visually impaired.)\n",
    "\n",
    "For example, to create an inline image link to https://octodex.github.com/images/bannekat.png, with an alt text that says, Benjamin Bannekat, you'd write this in Markdown: ![Benjamin Bannekat](https://octodex.github.com/images/bannekat.png).\n",
    "\n",
    "Although you don't need to add alt text, it will make your content accessible to your audience, including people who are visually impaired, use screen readers, or do not have high speed internet connections.\n",
    "\n",
    "For a reference image, you'll follow the same pattern as a reference link. You'll precede the Markdown with an exclamation point, then provide two brackets for the alt text, and then two more for the image tag, like this: ![The founding father][Father] At the bottom of your Markdown page, you'll define an image for the tag, like this: \n",
    "\n",
    "[Father]: http://octodex.github.com/images/founding-father.jpg."
   ]
  },
  {
   "cell_type": "markdown",
   "metadata": {},
   "source": [
    "## Blockquotes\n",
    "\n",
    "If you need to call special attention to a quote from another source, or design a pull quote for a magazine article, then Markdown's blockquote syntax will be useful. A blockquote is a sentence or paragraph that's been specially formatted to draw attention to the reader. For example:\n",
    "\n",
    "\"The sin of doing nothing is the deadliest of all the seven sins. It has been said that for evil men to accomplish their purpose it is only necessary that good men should do nothing.\"\n",
    "\n",
    "To create a block quote, all you have to do is preface a line with the \"greater than\" caret (>). For example:\n",
    "\n",
    "> \"In a few moments he was barefoot, his stockings folded in his pockets and his canvas shoes dangling by their knotted laces over his shoulders and, picking a pointed salt-eaten stick out of the jetsam among the rocks, he clambered down the slope of the breakwater.\"\n",
    "\n",
    "You can also place a caret character on each line of the quote. This is particularly useful if your quote spans multiple paragraphs. For example:\n",
    "\n",
    "> His words seemed to have struck some deep chord in his own nature. Had he spoken\n",
    "of himself, of himself as he was or wished to be? Stephen watched his face for some\n",
    "moments in silence. A cold sadness was there. He had spoken of himself, of his own\n",
    "loneliness which he feared.\n",
    ">\n",
    "> —Of whom are you speaking? Stephen asked at length.\n",
    ">\n",
    "> Cranly did not answer.\n",
    "Notice that even blank lines must contain the caret character. This ensures that the entire blockquote is grouped together.\n",
    "\n",
    "Block quotes can contain other Markdown elements, such as italics, images, or links."
   ]
  },
  {
   "cell_type": "markdown",
   "metadata": {},
   "source": [
    "## Lists\n",
    "\n",
    "This tutorial is all about creating lists in Markdown.\n",
    "\n",
    "There are two types of lists in the known universe: unordered and ordered. That's a fancy way of saying that there are lists with bullet points, and lists with numbers.\n",
    "\n",
    "To create an unordered list, you'll want to preface each item in the list with an asterisk ( * ). Each list item also gets its own line. For example, a grocery list in Markdown might look like this:\n",
    "* Milk\n",
    "* Eggs\n",
    "* Salmon\n",
    "* Butter\n",
    "\n",
    "This Markdown list would render into bullet points.\n",
    "\n",
    "An ordered list is prefaced with numbers, instead of asterisks. Take a look at this recipe:\n",
    "\n",
    "Crack three eggs over a bowl\n",
    "Pour a gallon of milk into the bowl\n",
    "Rub the salmon vigorously with butter\n",
    "Drop the salmon into the egg-milk bowl\n",
    "To write that in Markdown, you'd do this:\n",
    "\n",
    "1. Crack three eggs over a bowl\n",
    "2. Pour a gallon of milk into the bowl\n",
    "3. Rub the salmon vigorously with butter\n",
    "4. Drop the salmon into the egg-milk bowl\n",
    "\n",
    "You can choose to add italics, bold, or links within lists, as you might expect.\n",
    "\n",
    "Occasionally, you might find the need to make a list with more depth, or, to nest one list within another. Have no fear, because the Markdown syntax is exactly the same. All you have to do is to remember to indent each asterisk one space more than the preceding item.\n",
    "\n",
    "For example, in the following list, we're going to add some sub-lists to each \"main\" list item, describing the people in detail:\n",
    "\n",
    "* Tintin\n",
    " * A reporter\n",
    " * Has poofy orange hair\n",
    " * Friends with the world's most awesome dog\n",
    "* Haddock\n",
    " * A sea captain\n",
    " * Has a fantastic beard\n",
    " * Loves whiskey\n",
    "   * Possibly also scotch?"
   ]
  },
  {
   "cell_type": "markdown",
   "metadata": {},
   "source": []
  }
 ],
 "metadata": {
  "kernelspec": {
   "display_name": "Python 3",
   "language": "python",
   "name": "python3"
  },
  "language_info": {
   "codemirror_mode": {
    "name": "ipython",
    "version": 3
   },
   "file_extension": ".py",
   "mimetype": "text/x-python",
   "name": "python",
   "nbconvert_exporter": "python",
   "pygments_lexer": "ipython3",
   "version": "3.10.13"
  }
 },
 "nbformat": 4,
 "nbformat_minor": 2
}
